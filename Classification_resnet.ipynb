{
 "cells": [
  {
   "cell_type": "markdown",
   "metadata": {
    "colab_type": "text",
    "id": "hPQtEcd9UhmQ"
   },
   "source": [
    "\n",
    "IMPORTING PACKAGES\n",
    "---\n",
    "\n",
    "\n",
    "\n",
    "---\n",
    "\n"
   ]
  },
  {
   "cell_type": "code",
   "execution_count": 0,
   "metadata": {
    "colab": {
     "base_uri": "https://localhost:8080/",
     "height": 34
    },
    "colab_type": "code",
    "id": "1DjU-wC-M8mQ",
    "outputId": "bc134940-3750-4378-8ec3-0e7a46c749c7"
   },
   "outputs": [
    {
     "data": {
      "text/plain": [
       "True"
      ]
     },
     "execution_count": 7,
     "metadata": {
      "tags": []
     },
     "output_type": "execute_result"
    }
   ],
   "source": [
    "import os\n",
    "import numpy as np\n",
    "from PIL import Image\n",
    "import torchvision.transforms as transforms \n",
    "import torchvision \n",
    "import torch\n",
    "import torch.nn as nn\n",
    "import torch.nn.functional as F\n",
    "from torch.utils.data import Dataset, DataLoader\n",
    "import matplotlib.pyplot as plt\n",
    "from torch import optim\n",
    "from torchvision import datasets, transforms, models\n",
    "cuda = torch.cuda.is_available()\n",
    "cuda"
   ]
  },
  {
   "cell_type": "markdown",
   "metadata": {
    "colab_type": "text",
    "id": "Zi57IGvtW6O5"
   },
   "source": [
    "\n",
    "DATA LOADER\n",
    "---\n",
    "\n",
    "\n",
    "\n",
    "---\n",
    "\n"
   ]
  },
  {
   "cell_type": "code",
   "execution_count": 0,
   "metadata": {
    "colab": {},
    "colab_type": "code",
    "id": "MFRFTRcFu_-M"
   },
   "outputs": [],
   "source": [
    "def dataload_torchvision(folder_path='_path', batch_size=1, workers=1, shuffle=True):  \n",
    "  data_set= torchvision.datasets.ImageFolder(root=folder_path, transform=torchvision.transforms.ToTensor())\n",
    "  data_loader= DataLoader(data_set, batch_size=batch_size, shuffle=shuffle, num_workers=workers)\n",
    "  return data_set, data_loader"
   ]
  },
  {
   "cell_type": "code",
   "execution_count": 0,
   "metadata": {
    "colab": {},
    "colab_type": "code",
    "id": "84mPDz5nvFYd"
   },
   "outputs": [],
   "source": [
    "train_set,train_loader = dataload_torchvision(folder_path= 'give your train data path', batch_size=64, workers=4, shuffle=True)\n",
    "train_label= train_set.classes\n",
    "print((train_label))"
   ]
  },
  {
   "cell_type": "code",
   "execution_count": 0,
   "metadata": {
    "colab": {},
    "colab_type": "code",
    "id": "0is9scWGvKNm"
   },
   "outputs": [],
   "source": [
    "val_set,val_loader = dataload_torchvision(folder_path= 'give your validation data path', batch_size=64, workers=1, shuffle=True)\n",
    "val_label= val_set.classes\n",
    "print((val_label))"
   ]
  },
  {
   "cell_type": "code",
   "execution_count": 0,
   "metadata": {
    "colab": {},
    "colab_type": "code",
    "id": "pd07sapkvNbm"
   },
   "outputs": [],
   "source": [
    "test_set,test_loader = dataload_torchvision(folder_path= 'give your test data path', batch_size=4, workers=1, shuffle=False)"
   ]
  },
  {
   "cell_type": "markdown",
   "metadata": {
    "colab_type": "text",
    "id": "NY3bKifcUntd"
   },
   "source": [
    "\n",
    "RESNET BLOCKS\n",
    "---\n",
    "\n",
    "\n",
    "\n",
    "---\n",
    "\n"
   ]
  },
  {
   "cell_type": "code",
   "execution_count": 0,
   "metadata": {
    "colab": {},
    "colab_type": "code",
    "id": "A4hWwxsJLY3A"
   },
   "outputs": [],
   "source": [
    "class baseBlock(torch.nn.Module):\n",
    "    expansion = 1\n",
    "    def __init__(self,input_planes,planes,stride=1,dim_change=None):\n",
    "        super(baseBlock,self).__init__()\n",
    "        self.conv1 = torch.nn.Conv2d(input_planes,planes,stride=stride,kernel_size=3,padding=1)\n",
    "        self.bn1   = torch.nn.BatchNorm2d(planes)\n",
    "        self.conv2 = torch.nn.Conv2d(planes,planes,stride=1,kernel_size=3,padding=1)\n",
    "        self.bn2   = torch.nn.BatchNorm2d(planes)\n",
    "        self.dim_change = dim_change\n",
    "    def forward(self,x):\n",
    "        res = x\n",
    "        output = F.relu(self.bn1(self.conv1(x)))\n",
    "        output = self.bn2(self.conv2(output))\n",
    "        if self.dim_change is not None:\n",
    "            res = self.dim_change(res)\n",
    "        output = output + res\n",
    "        output = F.relu(output)\n",
    "        return output\n",
    "\n",
    "class bottleNeck(torch.nn.Module):\n",
    "    expansion = 4\n",
    "    def __init__(self,input_planes,planes,stride=1,dim_change=None):\n",
    "        super(bottleNeck,self).__init__()\n",
    "        self.conv1 = torch.nn.Conv2d(input_planes,planes,kernel_size=1,stride=1)\n",
    "        self.bn1 = torch.nn.BatchNorm2d(planes)\n",
    "        self.conv2 = torch.nn.Conv2d(planes,planes,kernel_size=3,stride=stride,padding=1)\n",
    "        self.bn2 = torch.nn.BatchNorm2d(planes)\n",
    "        self.conv3 = torch.nn.Conv2d(planes,planes*self.expansion,kernel_size=1)\n",
    "        self.bn3 = torch.nn.BatchNorm2d(planes*self.expansion)\n",
    "        self.dim_change = dim_change\n",
    "    \n",
    "    def forward(self,x):\n",
    "        res = x\n",
    "        output = F.relu(self.bn1(self.conv1(x)))\n",
    "        output = F.relu(self.bn2(self.conv2(output)))\n",
    "        output = self.bn3(self.conv3(output))\n",
    "        output = output + res\n",
    "        output = F.relu(output)\n",
    "        return output\n",
    "\n",
    "class Resnet(torch.nn.Module):\n",
    "    def __init__(self,block,num_layers,classes=2):\n",
    "        super(Resnet,self).__init__()\n",
    "        self.input_planes = 64\n",
    "        self.conv1 = torch.nn.Conv2d(3,64,kernel_size=3,stride=1,padding=1)\n",
    "        self.bn1 = torch.nn.BatchNorm2d(64)\n",
    "        self.layer1 = self._layer(block,64,num_layers[0],stride=1)\n",
    "        self.layer2 = self._layer(block,256,num_layers[1],stride=2)\n",
    "        self.layer3 = self._layer(block,512,num_layers[2],stride=2)\n",
    "        self.layer4 = self._layer(block,512,num_layers[3],stride=2)\n",
    "        self.averagePool = torch.nn.AvgPool2d(kernel_size=4,stride=1)\n",
    "        self.fc = torch.nn.Linear(512*block.expansion,classes)\n",
    "        self.sigmoid = nn.Sigmoid()\n",
    "    \n",
    "    def _layer(self,block,planes,num_layers,stride=1):\n",
    "        dim_change = None\n",
    "        if stride!=1 or planes!= self.input_planes*block.expansion:\n",
    "            dim_change = torch.nn.Sequential(torch.nn.Conv2d(self.input_planes,planes*block.expansion,kernel_size=1,stride=stride),\n",
    "                                             torch.nn.BatchNorm2d(planes*block.expansion))\n",
    "        netLayers =[]\n",
    "        netLayers.append(block(self.input_planes,planes,stride=stride,dim_change=dim_change))\n",
    "        self.input_planes = planes * block.expansion\n",
    "        for i in range(1,num_layers):\n",
    "            netLayers.append(block(self.input_planes,planes))\n",
    "        return torch.nn.Sequential(*netLayers)\n",
    "\n",
    "    def forward(self,x):\n",
    "        x = F.relu(self.bn1(self.conv1(x)))\n",
    "        x = self.layer1(x)\n",
    "        x = self.layer2(x)\n",
    "        x = self.layer3(x)\n",
    "        x = self.layer4(x)\n",
    "        x = F.avg_pool2d(x,4)        \n",
    "        x = x.view(x.size(0),-1)\n",
    "        x = self.sigmoid(x)\n",
    "        return x"
   ]
  },
  {
   "cell_type": "markdown",
   "metadata": {
    "colab_type": "text",
    "id": "cX_iS_eJUtSU"
   },
   "source": [
    "\n",
    "Training\n",
    "---\n",
    "\n",
    "\n",
    "\n",
    "---\n",
    "\n"
   ]
  },
  {
   "cell_type": "code",
   "execution_count": 0,
   "metadata": {
    "colab": {},
    "colab_type": "code",
    "id": "n7gas2zOwnqO"
   },
   "outputs": [],
   "source": [
    "def train():  \n",
    "    device = torch.device( \"cuda\" if cuda else \"cpu\")\n",
    "    print(device)\n",
    "    model =  Resnet(bottleNeck,[3,4,6,3],2)\n",
    "#     model.load_state_dict(torch.load(\"model_path\"))\n",
    "    model.to(device)\n",
    "    costFunc = torch.nn.CrossEntropyLoss()\n",
    "    optimizer =  torch.optim.Adam(model.parameters(),lr=0.001)\n",
    "    for epoch in range(10):\n",
    "        loss = 0\n",
    "        iter1 = 0\n",
    "        total_train = 0\n",
    "        pred_train = 0\n",
    "        for i,batch in enumerate(train_loader):\n",
    "            data,output = batch            \n",
    "            data,output = data.to(device),output.to(device)\n",
    "            prediction = model(data)\n",
    "            loss = costFunc(prediction,output)\n",
    "            loss = loss.item()\n",
    "            _,prediction_new = torch.max(prediction.data,1)\n",
    "            total_train += output.size(0)\n",
    "            pred_train += (prediction_new.cpu()==output.cpu()).sum().item()                    \n",
    "            if i%1000 == 0:\n",
    "              torch.save(model.state_dict(), \"give your path /resnet_iter_{}_ep_{}.pth\".format(i, epoch))\n",
    "              print('[%d  %d] loss: %.4f'% (epoch+1,i+1,loss/100))\n",
    "              loss = 0\n",
    "            optimizer.zero_grad()\n",
    "            loss.backward()\n",
    "            optimizer.step()  \n",
    "            iter1= iter1+1"
   ]
  },
  {
   "cell_type": "markdown",
   "metadata": {
    "colab_type": "text",
    "id": "YbG3QRcOUSOh"
   },
   "source": [
    "\n",
    "Test_Evaluation\n",
    "---\n",
    "\n",
    "\n",
    "\n",
    "---\n",
    "\n",
    "\n"
   ]
  },
  {
   "cell_type": "code",
   "execution_count": 0,
   "metadata": {
    "colab": {},
    "colab_type": "code",
    "id": "MkCD6g9Ly5Do"
   },
   "outputs": [],
   "source": [
    "test = test_dataset\n",
    "testset = torch.utils.data.DataLoader(test,batch_size=1,shuffle=False)\n",
    "data_set, data_loader = dataload_torchvision( batch_size=1, workers=4, shuffle=False)\n",
    "for i, [data, label] in enumerate(data_loader):\n",
    "  nlabel = label.cpu().numpy().tolist()[0]\n"
   ]
  },
  {
   "cell_type": "code",
   "execution_count": 0,
   "metadata": {
    "colab": {},
    "colab_type": "code",
    "id": "oy21ArSXzWwZ"
   },
   "outputs": [],
   "source": [
    "device = torch.device('cuda' if torch.cuda.is_available() else 'cpu')\n",
    "model =  Resnet(bottleNeck,[3,4,6,3],2300)\n",
    "model.load_state_dict(torch.load(\"saved model path\"))\n",
    "model.to(device)\n",
    "model.eval()\n",
    "test_loss = []\n",
    "accuracy = 0\n",
    "total = 0\n",
    "arr=[]\n",
    "actual_arr = []\n",
    "for i, batch in enumerate(testset):\n",
    "  data, output, file_id = batch\n",
    "  file_id = file_id[0][len(\"test folder path\"):-4]\n",
    "  data_numpy = data.to(device)\n",
    "  outputs = model(data_numpy)\n",
    "  _, pred_labels = torch.max(outputs, 1)\n",
    "  arr.append(pred_labels)\n",
    "  pred_labels = pred_labels.view(-1).cpu().numpy().tolist()[0]\n",
    "  actual_label = data_set.classes[pred_labels]\n",
    "  actual_arr.append(actual_label)s"
   ]
  },
  {
   "cell_type": "code",
   "execution_count": 0,
   "metadata": {
    "colab": {},
    "colab_type": "code",
    "id": "nci3tKBfRgvR"
   },
   "outputs": [],
   "source": [
    "full_arr = []\n",
    "for each in arr:\n",
    "  full_arr.append(each.cpu().numpy().tolist()[0])"
   ]
  },
  {
   "cell_type": "code",
   "execution_count": 0,
   "metadata": {
    "colab": {},
    "colab_type": "code",
    "id": "nCllz_7URiEf"
   },
   "outputs": [],
   "source": [
    "import pandas as pd\n",
    "df = pd.DataFrame(np.vstack([range(0, max_dataset), actual_arr]).T, columns=[\"id\",\"label\"])\n",
    "df.to_csv('filename.csv', index=False)"
   ]
  }
 ],
 "metadata": {
  "accelerator": "TPU",
  "colab": {
   "collapsed_sections": [
    "LBwyUe7Fwvzj",
    "svATdBHJUPHy",
    "YbG3QRcOUSOh"
   ],
   "machine_shape": "hm",
   "name": "DLHWresnet_fast.ipynb",
   "provenance": [],
   "toc_visible": true
  },
  "kernelspec": {
   "display_name": "Python 3",
   "language": "python",
   "name": "python3"
  },
  "language_info": {
   "codemirror_mode": {
    "name": "ipython",
    "version": 3
   },
   "file_extension": ".py",
   "mimetype": "text/x-python",
   "name": "python",
   "nbconvert_exporter": "python",
   "pygments_lexer": "ipython3",
   "version": "3.7.3"
  }
 },
 "nbformat": 4,
 "nbformat_minor": 1
}
